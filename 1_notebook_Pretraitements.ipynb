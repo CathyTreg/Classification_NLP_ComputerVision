{
 "cells": [
  {
   "cell_type": "markdown",
   "id": "f81070f0",
   "metadata": {},
   "source": [
    "# Projet P6 : Classifiez automatiquement des biens de consommation"
   ]
  },
  {
   "cell_type": "markdown",
   "id": "ec857555",
   "metadata": {},
   "source": [
    "## Contexte"
   ]
  },
  {
   "cell_type": "markdown",
   "id": "cb5d5564",
   "metadata": {},
   "source": [
    "<b> MISSION 1 : </b>\n",
    "\n",
    "Vous êtes Data Scientist au sein de l’entreprise \"Place de marché”, qui souhaite lancer une marketplace e-commerce.\n",
    "\n",
    "Sur cette place de marché anglophone, des vendeurs proposent des articles à des acheteurs en postant une photo et une description.\n",
    "\n",
    "Pour l'instant, l'attribution de la catégorie d'un article est effectuée manuellement par les vendeurs, et est donc peu fiable. De plus, le volume des articles est pour l’instant très petit.\n",
    "\n",
    "Pour rendre l’expérience utilisateur des vendeurs (faciliter la mise en ligne de nouveaux articles) et des acheteurs (faciliter la recherche de produits) la plus fluide possible, et dans l'optique d'un passage à l'échelle,  il devient nécessaire d'automatiser cette tâche d‘attribution de la catégorie.\n",
    "\n",
    "Linda, Lead Data Scientist, vous demande donc d'étudier la faisabilité d'un moteur de classification d’articles, en utilisant leur image et leur description sur le jeu de données d'articles disponible dans la première pièce jointe de ce mail.\n",
    "\n",
    "Pourrais-tu analyser les descriptions textuelles et les images des produits, au travers des étapes suivantes : \n",
    "- Un prétraitement des données texte et image \n",
    "- Une extraction de features \n",
    "- Une réduction en 2 dimensions, afin de projeter les produits sur un graphique 2D, sous la forme de points dont la couleur correspondra à la catégorie réelle \n",
    "- Une analyse du graphique afin de conclure, à l’aide des descriptions ou des images, sur la faisabilité de regrouper automatiquement des produits de même catégorie \n",
    "- Une réalisation d’une mesure pour confirmer ton analyse visuelle, en calculant la similarité entre les catégories réelles et les catégories issues d’une segmentation en clusters\n",
    " \n",
    "Pourrais-tu nous démontrer ainsi la faisabilité de regrouper automatiquement des produits de même catégorie ? \n",
    "\n",
    "Afin d’extraire les features image, il sera nécessaire de mettre en œuvre :\n",
    "- un algorithme de type SIFT / ORB / SURF ;\n",
    "- un algorithme de type CNN Transfer Learning.\n",
    " \n",
    "Afin d’extraire les features texte, il sera nécessaire de mettre en œuvre : \n",
    "- deux approches de type bag-of-words, comptage simple de mots et Tf-idf ;\n",
    "- une approche de type word/sentence embedding classique avec Word2Vec (ou Glove ou FastText) ;\n",
    "- une approche de type word/sentence embedding avec BERT ;\n",
    "- une approche de type word/sentence embedding avec USE (Universal Sentence Encoder)."
   ]
  },
  {
   "cell_type": "markdown",
   "id": "353040f4-7c2e-4f62-aad6-c8d01bec0768",
   "metadata": {},
   "source": [
    "<b> MISSION 2 : </b>\n",
    "\n",
    "Pourrais-tu réaliser une classification supervisée à partir des images ? Je souhaiterais que tu mettes en place une data augmentation afin d’optimiser le modèle.\n",
    "\n",
    "De plus, nous souhaitons élargir notre gamme de produits à l’épicerie fine. \n",
    "Pour cela, pourrais-tu tester la collecte de produits à base de “champagne” via l’API disponible  ici ?\n",
    "https://developer.edamam.com/food-database-api\n",
    "\n",
    "Pourrais-tu ensuite nous proposer un script ou notebook Python permettant une extraction des 10 premiers produits dans un fichier “.csv”, contenant pour chaque produit les données suivantes : foodId, label, category, foodContentsLabel, image."
   ]
  },
  {
   "cell_type": "markdown",
   "id": "8224ae4f",
   "metadata": {},
   "source": [
    "## Etapes du projet :"
   ]
  },
  {
   "cell_type": "markdown",
   "id": "dfec73ab",
   "metadata": {},
   "source": [
    "Démontrer la faisabilité de regrouper automatiquement des produits de même catégorie.\n",
    "\n",
    "- <b> Etape préliminaire : </b> Importation des données ( --> NoteBook1 : Traitement des textes )\n",
    "- <b> Etape 1 : </b> Text cleaning et feature engineering ( --> NoteBook1 : Traitement des textes ) \n",
    "- <b> Etape 2 : </b> Catégorisation des descriptions ( --> NoteBook 2 et 3 : Méthodes bag of words et Word_embedding )\n",
    "- <b> Etape 3 : </b> Pré-traitement et classification d'images (SIFT et CNN) ( --> NoteBook4 : Traitement des images )\n",
    "- <b> Etape 4 : </b> Classification supervisée des images ( --> NoteBook5 : Classification des images )\n",
    "- <b> Etape 5 : </b> Collecte de produits via API ( --> NoteBook6 : Collecte produits API )\n"
   ]
  },
  {
   "cell_type": "markdown",
   "id": "f5078c34",
   "metadata": {},
   "source": [
    "## Etape préliminaire : Importation des données et description des fichiers"
   ]
  },
  {
   "cell_type": "markdown",
   "id": "4458be71",
   "metadata": {},
   "source": [
    "ETAPE 0\n",
    "- collecter et préparer les données dans un dataframe\n",
    "- mettre en place un environnement de travail configuré avec les bibliothèques de traitement de données et de machine learning"
   ]
  },
  {
   "cell_type": "markdown",
   "id": "77e00883",
   "metadata": {},
   "source": [
    "### Environnement de travail et librairies"
   ]
  },
  {
   "cell_type": "code",
   "execution_count": 1,
   "id": "e9cb8fdd-7387-4d83-a958-38f9024575ad",
   "metadata": {},
   "outputs": [
    {
     "name": "stdout",
     "output_type": "stream",
     "text": [
      "C:\\Users\\druar\\anaconda3\\envs\\Formation_P6\\python.exe\n",
      "3.11.9 | packaged by conda-forge | (main, Apr 19 2024, 18:27:10) [MSC v.1938 64 bit (AMD64)]\n"
     ]
    }
   ],
   "source": [
    "import sys\n",
    "# Mon environnement virtuel :\n",
    "print(sys.executable)\n",
    "# La version de Python dans mon environnement virtuel :\n",
    "print(sys.version)"
   ]
  },
  {
   "cell_type": "code",
   "execution_count": null,
   "id": "97456f41",
   "metadata": {},
   "outputs": [],
   "source": [
    "# Builtin\n",
    "import os\n",
    "# Définir le nombre de cœurs que vous souhaitez utiliser\n",
    "os.environ['LOKY_MAX_CPU_COUNT'] = '14'\n",
    "# Importer les autres bibliothèques après avoir défini la variable d'environnement\n",
    "# import joblib\n",
    "\n",
    "# Data\n",
    "import numpy as np\n",
    "import pandas as pd\n",
    "# import scipy.stats as st\n",
    "from sklearn.feature_extraction.text import CountVectorizer\n",
    "from sklearn.feature_extraction.text import TfidfVectorizer\n",
    "from sklearn.preprocessing import LabelEncoder\n",
    "\n",
    "# NLP - nltk\n",
    "import nltk\n",
    "import string\n",
    "from nltk.stem import WordNetLemmatizer, PorterStemmer\n",
    "from nltk.tokenize import word_tokenize, wordpunct_tokenize\n",
    "# from nltk.corpus import words\n",
    "from nltk.corpus import stopwords\n",
    "# from nltk.tokenize import RegexpTokenizer\n",
    "from nltk import ngrams\n",
    "\n",
    "# Download éventuels à faire\n",
    "nltk.download('stopwords')\n",
    "nltk.download('punkt')\n",
    "nltk.download('words')\n",
    "nltk.download('wordnet')\n",
    "\n",
    "# NLP - Spacy\n",
    "import spacy\n",
    "from spacy import displacy\n",
    "spacy.cli.download(\"en_core_web_trf\") # modèles du plus simple au plus complexe : en_core_web_sm, en_core_web_md, en_core_web_lg, en_core_web_trf\n",
    "nlp = spacy.load(\"en_core_web_trf\") \n",
    "# L'argument disable dans la fonction spacy.load est utilisé pour désactiver certaines composantes \n",
    "# du pipeline de traitement linguistique de spaCy lors du chargement d'un modèle.\n",
    "\n",
    "# Test language modèle différent :\n",
    "# from spacy.lang.en import English\n",
    "# from spacy.pipeline.lemmatizer import Lemmatizer\n",
    "# from spacy.lookups import load_lookups\n",
    "# nlp = English()\n",
    "\n",
    "# Reduction de dimensions\n",
    "from sklearn import decomposition\n",
    "from sklearn import manifold\n",
    "\n",
    "# Viz\n",
    "import matplotlib.pyplot as plt\n",
    "import matplotlib.colors as mcolors\n",
    "import seaborn as sns\n",
    "from wordcloud import WordCloud\n",
    "# from PIL import Image\n",
    "sns.set_palette('Set3')\n",
    "\n",
    "# Clustering\n",
    "from sklearn import cluster, metrics\n",
    "\n",
    "# Augmenter les CPU\n",
    "# from pandarallel import pandarallel\n",
    "# pandarallel.initialize(progress_bar=True,\n",
    "#                        nb_workers=6,\n",
    "#                        #verbose=1\n",
    "#                       )"
   ]
  },
  {
   "cell_type": "markdown",
   "id": "00405557",
   "metadata": {},
   "source": [
    "### Importation et exploration des données"
   ]
  },
  {
   "cell_type": "code",
   "execution_count": null,
   "id": "c17707f1",
   "metadata": {},
   "outputs": [],
   "source": [
    "articles_text = pd.read_csv(\"C:\\\\Users\\\\druar\\\\OneDrive\\\\Documents\\\\01_Formations\\\\1_Outils_ET_Metier\\\\2024_DataScientist\\\\ProjetsPython\\\\P6\\\\data\\\\Flipkart\\\\flipkart_com-ecommerce_sample_1050.csv\")\n",
    "\n",
    "articles_text.head()"
   ]
  },
  {
   "cell_type": "code",
   "execution_count": null,
   "id": "d29ed1b0",
   "metadata": {},
   "outputs": [],
   "source": [
    "# articles_text.tail()"
   ]
  },
  {
   "cell_type": "code",
   "execution_count": 7,
   "id": "fa372079",
   "metadata": {},
   "outputs": [],
   "source": [
    "# articles_text.sample(20)"
   ]
  },
  {
   "cell_type": "code",
   "execution_count": 8,
   "id": "be47cc82",
   "metadata": {},
   "outputs": [
    {
     "name": "stdout",
     "output_type": "stream",
     "text": [
      "<class 'pandas.core.frame.DataFrame'>\n",
      "RangeIndex: 1050 entries, 0 to 1049\n",
      "Data columns (total 15 columns):\n",
      " #   Column                   Non-Null Count  Dtype  \n",
      "---  ------                   --------------  -----  \n",
      " 0   uniq_id                  1050 non-null   object \n",
      " 1   crawl_timestamp          1050 non-null   object \n",
      " 2   product_url              1050 non-null   object \n",
      " 3   product_name             1050 non-null   object \n",
      " 4   product_category_tree    1050 non-null   object \n",
      " 5   pid                      1050 non-null   object \n",
      " 6   retail_price             1049 non-null   float64\n",
      " 7   discounted_price         1049 non-null   float64\n",
      " 8   image                    1050 non-null   object \n",
      " 9   is_FK_Advantage_product  1050 non-null   bool   \n",
      " 10  description              1050 non-null   object \n",
      " 11  product_rating           1050 non-null   object \n",
      " 12  overall_rating           1050 non-null   object \n",
      " 13  brand                    712 non-null    object \n",
      " 14  product_specifications   1049 non-null   object \n",
      "dtypes: bool(1), float64(2), object(12)\n",
      "memory usage: 116.0+ KB\n"
     ]
    }
   ],
   "source": [
    "articles_text.info()"
   ]
  },
  {
   "cell_type": "code",
   "execution_count": 9,
   "id": "5316071b",
   "metadata": {},
   "outputs": [
    {
     "data": {
      "text/plain": [
       "uniq_id                    1050\n",
       "crawl_timestamp             149\n",
       "product_url                1050\n",
       "product_name               1050\n",
       "product_category_tree       642\n",
       "pid                        1050\n",
       "retail_price                354\n",
       "discounted_price            424\n",
       "image                      1050\n",
       "is_FK_Advantage_product       2\n",
       "description                1050\n",
       "product_rating               27\n",
       "overall_rating               27\n",
       "brand                       490\n",
       "product_specifications      984\n",
       "dtype: int64"
      ]
     },
     "execution_count": 9,
     "metadata": {},
     "output_type": "execute_result"
    }
   ],
   "source": [
    "# Nb de valeurs uniques pour chaque colonne\n",
    "articles_text.nunique()"
   ]
  },
  {
   "cell_type": "code",
   "execution_count": 10,
   "id": "9bb7c5f4",
   "metadata": {},
   "outputs": [],
   "source": [
    "# product_category_tree = catégorie du produit\n",
    "# description = description du produit"
   ]
  },
  {
   "cell_type": "code",
   "execution_count": 18,
   "id": "c5292e6c",
   "metadata": {},
   "outputs": [
    {
     "data": {
      "text/plain": [
       "uniq_id                    0.000000\n",
       "crawl_timestamp            0.000000\n",
       "product_url                0.000000\n",
       "product_name               0.000000\n",
       "product_category_tree      0.000000\n",
       "pid                        0.000000\n",
       "image                      0.000000\n",
       "is_FK_Advantage_product    0.000000\n",
       "description                0.000000\n",
       "product_rating             0.000000\n",
       "overall_rating             0.000000\n",
       "retail_price               0.000952\n",
       "discounted_price           0.000952\n",
       "product_specifications     0.000952\n",
       "brand                      0.321905\n",
       "dtype: float64"
      ]
     },
     "execution_count": 18,
     "metadata": {},
     "output_type": "execute_result"
    }
   ],
   "source": [
    "articles_text.isna().mean().sort_values()\n",
    "# Aucunes valeurs manquantes sur les variables qui vont nous intéresser"
   ]
  },
  {
   "cell_type": "code",
   "execution_count": 20,
   "id": "dfdca84e",
   "metadata": {},
   "outputs": [
    {
     "name": "stdout",
     "output_type": "stream",
     "text": [
      "col : uniq_id -> duplicated : 0\n",
      "col : crawl_timestamp -> duplicated : 901\n",
      "col : product_url -> duplicated : 0\n",
      "col : product_name -> duplicated : 0\n",
      "col : product_category_tree -> duplicated : 408\n",
      "col : pid -> duplicated : 0\n",
      "col : retail_price -> duplicated : 695\n",
      "col : discounted_price -> duplicated : 625\n",
      "col : image -> duplicated : 0\n",
      "col : is_FK_Advantage_product -> duplicated : 1048\n",
      "col : description -> duplicated : 0\n",
      "col : product_rating -> duplicated : 1023\n",
      "col : overall_rating -> duplicated : 1023\n",
      "col : brand -> duplicated : 559\n",
      "col : product_specifications -> duplicated : 65\n"
     ]
    }
   ],
   "source": [
    "# Valeurs dupliquées, individus identiques sur toutes les colonnes\n",
    "# articles_text.duplicated().sum() = 0 \n",
    "# Valeurs dupliquées dans chaque colonne :\n",
    "for col in articles_text.columns :\n",
    "    n = articles_text.duplicated(subset=col).sum()\n",
    "    print(f\"col : {col} -> duplicated : {n}\")"
   ]
  },
  {
   "cell_type": "markdown",
   "id": "a59a4019",
   "metadata": {},
   "source": [
    "<div class=\"alert alert-block alert-info\">\n",
    "    <b> A RETENIR : </b> \n",
    "    \n",
    "- nous avons 1050 descriptions de produits uniques dans l'échantillon de données\n",
    "- il n'y a pas de valeurs manquantes dans les variables que nous allons exploiter\n",
    "- il y a 642 catégories de produits différentes\n",
    "- il y a 490 marques de produits différentes\n",
    "    \n",
    "</div>"
   ]
  },
  {
   "cell_type": "markdown",
   "id": "9a1f9375",
   "metadata": {},
   "source": [
    "## Etape 1 : Text cleaning et feature engineering"
   ]
  },
  {
   "cell_type": "markdown",
   "id": "6bc96269",
   "metadata": {},
   "source": [
    "ETAPE 1\n",
    "    \n",
    "    1. Explorer le corpus de textes (tokenisation et analyse des fréquences)\n",
    "       - Exploratory Data Analysis (EDA) : comprendre, explorer et effectuer un premier nettoyage des données\n",
    "\n",
    "    2. Text processing : nettoyer et normaliser les données\n",
    "       - Première passe de nettoyage : supprimer les stopwords\n",
    "       - Deuxième passe : lemmatisation ou racinisation (stemming)"
   ]
  },
  {
   "cell_type": "markdown",
   "id": "fe9df161",
   "metadata": {},
   "source": [
    "### 1. Explorer le corpus de textes - EDA"
   ]
  },
  {
   "cell_type": "markdown",
   "id": "62e75c0f",
   "metadata": {},
   "source": [
    "#### -- Selectionner les variables --"
   ]
  },
  {
   "cell_type": "code",
   "execution_count": 27,
   "id": "315a5af1",
   "metadata": {},
   "outputs": [
    {
     "data": {
      "text/html": [
       "<div>\n",
       "<style scoped>\n",
       "    .dataframe tbody tr th:only-of-type {\n",
       "        vertical-align: middle;\n",
       "    }\n",
       "\n",
       "    .dataframe tbody tr th {\n",
       "        vertical-align: top;\n",
       "    }\n",
       "\n",
       "    .dataframe thead th {\n",
       "        text-align: right;\n",
       "    }\n",
       "</style>\n",
       "<table border=\"1\" class=\"dataframe\">\n",
       "  <thead>\n",
       "    <tr style=\"text-align: right;\">\n",
       "      <th></th>\n",
       "      <th>product_category_tree</th>\n",
       "      <th>description</th>\n",
       "    </tr>\n",
       "  </thead>\n",
       "  <tbody>\n",
       "    <tr>\n",
       "      <th>0</th>\n",
       "      <td>[\"Home Furnishing &gt;&gt; Curtains &amp; Accessories &gt;&gt;...</td>\n",
       "      <td>Key Features of Elegance Polyester Multicolor ...</td>\n",
       "    </tr>\n",
       "    <tr>\n",
       "      <th>1</th>\n",
       "      <td>[\"Baby Care &gt;&gt; Baby Bath &amp; Skin &gt;&gt; Baby Bath T...</td>\n",
       "      <td>Specifications of Sathiyas Cotton Bath Towel (...</td>\n",
       "    </tr>\n",
       "    <tr>\n",
       "      <th>2</th>\n",
       "      <td>[\"Baby Care &gt;&gt; Baby Bath &amp; Skin &gt;&gt; Baby Bath T...</td>\n",
       "      <td>Key Features of Eurospa Cotton Terry Face Towe...</td>\n",
       "    </tr>\n",
       "    <tr>\n",
       "      <th>3</th>\n",
       "      <td>[\"Home Furnishing &gt;&gt; Bed Linen &gt;&gt; Bedsheets &gt;&gt;...</td>\n",
       "      <td>Key Features of SANTOSH ROYAL FASHION Cotton P...</td>\n",
       "    </tr>\n",
       "    <tr>\n",
       "      <th>4</th>\n",
       "      <td>[\"Home Furnishing &gt;&gt; Bed Linen &gt;&gt; Bedsheets &gt;&gt;...</td>\n",
       "      <td>Key Features of Jaipur Print Cotton Floral Kin...</td>\n",
       "    </tr>\n",
       "  </tbody>\n",
       "</table>\n",
       "</div>"
      ],
      "text/plain": [
       "                               product_category_tree  \\\n",
       "0  [\"Home Furnishing >> Curtains & Accessories >>...   \n",
       "1  [\"Baby Care >> Baby Bath & Skin >> Baby Bath T...   \n",
       "2  [\"Baby Care >> Baby Bath & Skin >> Baby Bath T...   \n",
       "3  [\"Home Furnishing >> Bed Linen >> Bedsheets >>...   \n",
       "4  [\"Home Furnishing >> Bed Linen >> Bedsheets >>...   \n",
       "\n",
       "                                         description  \n",
       "0  Key Features of Elegance Polyester Multicolor ...  \n",
       "1  Specifications of Sathiyas Cotton Bath Towel (...  \n",
       "2  Key Features of Eurospa Cotton Terry Face Towe...  \n",
       "3  Key Features of SANTOSH ROYAL FASHION Cotton P...  \n",
       "4  Key Features of Jaipur Print Cotton Floral Kin...  "
      ]
     },
     "execution_count": 27,
     "metadata": {},
     "output_type": "execute_result"
    }
   ],
   "source": [
    "# Selection des variables qui vont nous intéresser\n",
    "vars = ['product_category_tree','description']\n",
    "articles_text = articles_text[vars]\n",
    "articles_text.head()"
   ]
  },
  {
   "cell_type": "code",
   "execution_count": 29,
   "id": "1087c84b",
   "metadata": {},
   "outputs": [
    {
     "data": {
      "text/plain": [
       "product_category_tree\n",
       "[\"Home Furnishing >> Bed Linen >> Blankets, Quilts & Dohars\"]                         0.053333\n",
       "[\"Kitchen & Dining >> Coffee Mugs >> Prithish Coffee Mugs\"]                           0.024762\n",
       "[\"Watches >> Wrist Watches >> Maxima Wrist Watches\"]                                  0.021905\n",
       "[\"Kitchen & Dining >> Coffee Mugs >> Rockmantra Coffee Mugs\"]                         0.020952\n",
       "[\"Home Furnishing >> Bath Linen >> Towels\"]                                           0.018095\n",
       "                                                                                        ...   \n",
       "[\"Home Decor & Festive Needs >> Showpieces >> Ethnic >> Infinity India Ethnic\"]       0.000952\n",
       "[\"Home Decor & Festive Needs >> Showpieces >> Ethnic >> Ravishing Variety Ethnic\"]    0.000952\n",
       "[\"Home Decor & Festive Needs >> Showpieces >> Ethnic >> Pg handicrafts Ethnic\"]       0.000952\n",
       "[\"Home Decor & Festive Needs >> Showpieces >> Ethnic >> Homedesires Ethnic\"]          0.000952\n",
       "[\"Watches >> Wrist Watches >> Petrol Wrist Watches\"]                                  0.000952\n",
       "Name: proportion, Length: 642, dtype: float64"
      ]
     },
     "execution_count": 29,
     "metadata": {},
     "output_type": "execute_result"
    }
   ],
   "source": [
    "articles_text['product_category_tree'].value_counts(normalize=True)"
   ]
  },
  {
   "cell_type": "markdown",
   "id": "97db874e",
   "metadata": {},
   "source": [
    "#### -- Splitter la variable 'product_category_tree' en sous-catégories --"
   ]
  },
  {
   "cell_type": "code",
   "execution_count": 32,
   "id": "9e31e6bd",
   "metadata": {},
   "outputs": [
    {
     "data": {
      "text/html": [
       "<div>\n",
       "<style scoped>\n",
       "    .dataframe tbody tr th:only-of-type {\n",
       "        vertical-align: middle;\n",
       "    }\n",
       "\n",
       "    .dataframe tbody tr th {\n",
       "        vertical-align: top;\n",
       "    }\n",
       "\n",
       "    .dataframe thead th {\n",
       "        text-align: right;\n",
       "    }\n",
       "</style>\n",
       "<table border=\"1\" class=\"dataframe\">\n",
       "  <thead>\n",
       "    <tr style=\"text-align: right;\">\n",
       "      <th></th>\n",
       "      <th>product_category_tree</th>\n",
       "      <th>description</th>\n",
       "      <th>category_1</th>\n",
       "      <th>category_2</th>\n",
       "      <th>category_3</th>\n",
       "      <th>category_4</th>\n",
       "      <th>category_5</th>\n",
       "      <th>category_6</th>\n",
       "      <th>category_7</th>\n",
       "    </tr>\n",
       "  </thead>\n",
       "  <tbody>\n",
       "    <tr>\n",
       "      <th>0</th>\n",
       "      <td>Home Furnishing &gt;&gt; Curtains &amp; Accessories &gt;&gt; C...</td>\n",
       "      <td>Key Features of Elegance Polyester Multicolor ...</td>\n",
       "      <td>Home Furnishing</td>\n",
       "      <td>Curtains &amp; Accessories</td>\n",
       "      <td>Curtains</td>\n",
       "      <td>Elegance Polyester Multicolor Abstract Eyelet ...</td>\n",
       "      <td>None</td>\n",
       "      <td>None</td>\n",
       "      <td>None</td>\n",
       "    </tr>\n",
       "    <tr>\n",
       "      <th>1</th>\n",
       "      <td>Baby Care &gt;&gt; Baby Bath &amp; Skin &gt;&gt; Baby Bath Tow...</td>\n",
       "      <td>Specifications of Sathiyas Cotton Bath Towel (...</td>\n",
       "      <td>Baby Care</td>\n",
       "      <td>Baby Bath &amp; Skin</td>\n",
       "      <td>Baby Bath Towels</td>\n",
       "      <td>Sathiyas Baby Bath Towels</td>\n",
       "      <td>Sathiyas Cotton Bath Towel (3 Bath Towel, Red,...</td>\n",
       "      <td>None</td>\n",
       "      <td>None</td>\n",
       "    </tr>\n",
       "    <tr>\n",
       "      <th>2</th>\n",
       "      <td>Baby Care &gt;&gt; Baby Bath &amp; Skin &gt;&gt; Baby Bath Tow...</td>\n",
       "      <td>Key Features of Eurospa Cotton Terry Face Towe...</td>\n",
       "      <td>Baby Care</td>\n",
       "      <td>Baby Bath &amp; Skin</td>\n",
       "      <td>Baby Bath Towels</td>\n",
       "      <td>Eurospa Baby Bath Towels</td>\n",
       "      <td>Eurospa Cotton Terry Face Towel Set (20 PIECE ...</td>\n",
       "      <td>None</td>\n",
       "      <td>None</td>\n",
       "    </tr>\n",
       "    <tr>\n",
       "      <th>3</th>\n",
       "      <td>Home Furnishing &gt;&gt; Bed Linen &gt;&gt; Bedsheets &gt;&gt; S...</td>\n",
       "      <td>Key Features of SANTOSH ROYAL FASHION Cotton P...</td>\n",
       "      <td>Home Furnishing</td>\n",
       "      <td>Bed Linen</td>\n",
       "      <td>Bedsheets</td>\n",
       "      <td>SANTOSH ROYAL FASHION Bedsheets</td>\n",
       "      <td>SANTOSH ROYAL FASHION Cotton Printed King size...</td>\n",
       "      <td>None</td>\n",
       "      <td>None</td>\n",
       "    </tr>\n",
       "    <tr>\n",
       "      <th>4</th>\n",
       "      <td>Home Furnishing &gt;&gt; Bed Linen &gt;&gt; Bedsheets &gt;&gt; J...</td>\n",
       "      <td>Key Features of Jaipur Print Cotton Floral Kin...</td>\n",
       "      <td>Home Furnishing</td>\n",
       "      <td>Bed Linen</td>\n",
       "      <td>Bedsheets</td>\n",
       "      <td>Jaipur Print Bedsheets</td>\n",
       "      <td>Jaipur Print Cotton Floral King sized Double B...</td>\n",
       "      <td>None</td>\n",
       "      <td>None</td>\n",
       "    </tr>\n",
       "  </tbody>\n",
       "</table>\n",
       "</div>"
      ],
      "text/plain": [
       "                               product_category_tree  \\\n",
       "0  Home Furnishing >> Curtains & Accessories >> C...   \n",
       "1  Baby Care >> Baby Bath & Skin >> Baby Bath Tow...   \n",
       "2  Baby Care >> Baby Bath & Skin >> Baby Bath Tow...   \n",
       "3  Home Furnishing >> Bed Linen >> Bedsheets >> S...   \n",
       "4  Home Furnishing >> Bed Linen >> Bedsheets >> J...   \n",
       "\n",
       "                                         description       category_1  \\\n",
       "0  Key Features of Elegance Polyester Multicolor ...  Home Furnishing   \n",
       "1  Specifications of Sathiyas Cotton Bath Towel (...        Baby Care   \n",
       "2  Key Features of Eurospa Cotton Terry Face Towe...        Baby Care   \n",
       "3  Key Features of SANTOSH ROYAL FASHION Cotton P...  Home Furnishing   \n",
       "4  Key Features of Jaipur Print Cotton Floral Kin...  Home Furnishing   \n",
       "\n",
       "               category_2        category_3  \\\n",
       "0  Curtains & Accessories          Curtains   \n",
       "1        Baby Bath & Skin  Baby Bath Towels   \n",
       "2        Baby Bath & Skin  Baby Bath Towels   \n",
       "3               Bed Linen         Bedsheets   \n",
       "4               Bed Linen         Bedsheets   \n",
       "\n",
       "                                          category_4  \\\n",
       "0  Elegance Polyester Multicolor Abstract Eyelet ...   \n",
       "1                          Sathiyas Baby Bath Towels   \n",
       "2                           Eurospa Baby Bath Towels   \n",
       "3                    SANTOSH ROYAL FASHION Bedsheets   \n",
       "4                             Jaipur Print Bedsheets   \n",
       "\n",
       "                                          category_5 category_6 category_7  \n",
       "0                                               None       None       None  \n",
       "1  Sathiyas Cotton Bath Towel (3 Bath Towel, Red,...       None       None  \n",
       "2  Eurospa Cotton Terry Face Towel Set (20 PIECE ...       None       None  \n",
       "3  SANTOSH ROYAL FASHION Cotton Printed King size...       None       None  \n",
       "4  Jaipur Print Cotton Floral King sized Double B...       None       None  "
      ]
     },
     "execution_count": 32,
     "metadata": {},
     "output_type": "execute_result"
    }
   ],
   "source": [
    "# Retier les signes [\"\"] dans le texte de la variable\n",
    "articles_text['product_category_tree'] = articles_text['product_category_tree'].str.slice(2, -2)\n",
    "# Séparer les catégories en plusieurs colonnes\n",
    "categories_split = articles_text['product_category_tree'].str.split(' >> ', expand=True)\n",
    "\n",
    "# Renommer les colonnes pour une meilleure clarté\n",
    "categories_split.columns = ['category_1', 'category_2', 'category_3','category_4', 'category_5', 'category_6','category_7']\n",
    "\n",
    "# Joindre les nouvelles colonnes avec le DataFrame original\n",
    "articles_text = articles_text.join(categories_split)\n",
    "articles_text.head()"
   ]
  },
  {
   "cell_type": "code",
   "execution_count": 34,
   "id": "bdfd158e",
   "metadata": {},
   "outputs": [
    {
     "data": {
      "text/plain": [
       "product_category_tree     642\n",
       "description              1050\n",
       "category_1                  7\n",
       "category_2                 62\n",
       "category_3                241\n",
       "category_4                349\n",
       "category_5                297\n",
       "category_6                117\n",
       "category_7                 57\n",
       "dtype: int64"
      ]
     },
     "execution_count": 34,
     "metadata": {},
     "output_type": "execute_result"
    }
   ],
   "source": [
    "articles_text.nunique()"
   ]
  },
  {
   "cell_type": "code",
   "execution_count": 36,
   "id": "31900010",
   "metadata": {},
   "outputs": [
    {
     "data": {
      "text/plain": [
       "category_1\n",
       "Home Furnishing               150\n",
       "Baby Care                     150\n",
       "Watches                       150\n",
       "Home Decor & Festive Needs    150\n",
       "Kitchen & Dining              150\n",
       "Beauty and Personal Care      150\n",
       "Computers                     150\n",
       "Name: count, dtype: int64"
      ]
     },
     "execution_count": 36,
     "metadata": {},
     "output_type": "execute_result"
    }
   ],
   "source": [
    "articles_text['category_1'].value_counts()\n",
    "# Le sample des produits a été réalisé en prenant 150 produits de chacune des 7 catégories ci-dessous"
   ]
  },
  {
   "cell_type": "code",
   "execution_count": 38,
   "id": "77d5b08d",
   "metadata": {},
   "outputs": [
    {
     "data": {
      "text/plain": [
       "category_2\n",
       "Wrist Watches                149\n",
       "Laptop Accessories            87\n",
       "Infant Wear                   84\n",
       "Coffee Mugs                   74\n",
       "Showpieces                    71\n",
       "Bed Linen                     65\n",
       "Fragrances                    65\n",
       "Network Components            49\n",
       "Cookware                      27\n",
       "Table Decor & Handicrafts     27\n",
       "Combos and Kits               24\n",
       "Wall Decor & Clocks           22\n",
       "Bath Linen                    21\n",
       "Curtains & Accessories        19\n",
       "Makeup                        18\n",
       "Baby Bedding                  15\n",
       "Body and Skin Care            15\n",
       "Baby & Kids Gifts             15\n",
       "Baby Bath & Skin              14\n",
       "Kitchen Tools                 14\n",
       "Name: count, dtype: int64"
      ]
     },
     "execution_count": 38,
     "metadata": {},
     "output_type": "execute_result"
    }
   ],
   "source": [
    "tmp = articles_text['category_2'].value_counts()\n",
    "tmp.head(20)"
   ]
  },
  {
   "cell_type": "markdown",
   "id": "10d723d5",
   "metadata": {},
   "source": [
    "#### -- Visualiser les descriptions des produits --"
   ]
  },
  {
   "cell_type": "code",
   "execution_count": 41,
   "id": "0e364c15",
   "metadata": {},
   "outputs": [
    {
     "data": {
      "text/plain": [
       "<seaborn.axisgrid.FacetGrid at 0x1a561844650>"
      ]
     },
     "execution_count": 41,
     "metadata": {},
     "output_type": "execute_result"
    },
    {
     "data": {
      "image/png": "[encoded data removed]",
      "text/plain": [
       "<Figure size 500x500 with 1 Axes>"
      ]
     },
     "metadata": {},
     "output_type": "display_data"
    }
   ],
   "source": [
    "# Nombre de caractères\n",
    "tmp = articles_text.description.str.len()\n",
    "# sns.boxplot(tmp)\n",
    "sns.displot(tmp)"
   ]
  },
  {
   "cell_type": "code",
   "execution_count": 43,
   "id": "816b43e7",
   "metadata": {},
   "outputs": [],
   "source": [
    "# Stocker la longeur de la variable description\n",
    "# articles_text[\"_len_description\"] = tmp\n",
    "# articles_text.head()"
   ]
  },
  {
   "cell_type": "code",
   "execution_count": 45,
   "id": "1a03448d",
   "metadata": {},
   "outputs": [],
   "source": [
    "# Lire quelques descriptions au hasard :\n",
    "articles_text_sample = articles_text.sample(20)"
   ]
  },
  {
   "cell_type": "code",
   "execution_count": 47,
   "id": "740f0683",
   "metadata": {},
   "outputs": [
    {
     "name": "stdout",
     "output_type": "stream",
     "text": [
      "Catégorie : Computers\n",
      "Buy Netgear AC 750 Wi-Fi Range Extender only for Rs. 5999 from Flipkart.com. Only Genuine Products. 30 Day Replacement Guarantee. Free Shipping. Cash On Delivery!...\n",
      "\n",
      "\n",
      "Catégorie : Home Furnishing\n",
      "Buy Home Originals Polka, Abstract Double Blanket Multicolor at Rs. 1299 at Flipkart.com. Only Genuine Products. Free Shipping. Cash On Delivery!...\n",
      "\n",
      "\n",
      "Catégorie : Beauty and Personal Care\n",
      "Flipkart.com: Buy Cinthol Deo Spray - Intense (Pack of 2) Combo Set online only for Rs. 275 from Flipkart.com. Only Genuine Products. 30 Day Replacement Guarantee. Free Shipping. Cash On Delivery!...\n",
      "\n",
      "\n",
      "Catégorie : Watches\n",
      "Hourglass HG 006 Analog Watch  - For Men - Buy Hourglass HG 006 Analog Watch  - For Men  HG 006 Online at Rs.850 in India Only at Flipkart.com. - Great Discounts, Only Genuine Products, 30 Day Replacement Guarantee, Free Shipping. Cash On Delivery!...\n",
      "\n",
      "\n",
      "Catégorie : Computers\n",
      "Buy Edimax BR-6288ACL only for Rs. 2840 from Flipkart.com. Only Genuine Products. 30 Day Replacement Guarantee. Free Shipping. Cash On Delivery!...\n",
      "\n",
      "\n",
      "Catégorie : Home Furnishing\n",
      "Key Features of Balaji Velvet Sofa Cover 5 Seater Sofa Cover 3+1+1,Balaji Velvet Sofa Cover (Brown Pack of 6) Price: Rs. 3,599 Balaji Textiles Is The Leading Branding Manufacturer And Retailer Company Of Handloom. Its Deals In Heavy Look Sofa Cover With Reasonable Prices. Balaji Textiles Mills Have More Than 700 Designer Sofa Covers, Which Have Lots Of Colors And Designing Like- Floral, Geometric And Others.....,Specifications of Balaji Velvet Sofa Cover (Brown Pack of 6) General Brand Balaji Suitable For Guest-Room, Living-Room Model Number BTS1239B01 Shade Brown Type Sofa Material Velvet Pattern Floral Wash Care Instructions Only Dry Clean And Easy Wash Color Brown Dimensions Weight 2.8 kg Seat Width 58 cm Height 68 cm Width 58 cm Depth 1 cm Seat Height 68 cm Back Hieght 68 cm In the Box Sales Package A Set Of Sofa Slip Cover Comprises Of 6 Pcs. 1 Sofa Seat Cover- 170 Cmx68 Cm, 1 Sofa Back Cover- 170cmx68cm, 2 Chair Seat Cover- 58cmx68cm, 2 Chair Back Cover- 58cmx68cm Pack of 6...\n",
      "\n",
      "\n",
      "Catégorie : Beauty and Personal Care\n",
      "Flipkart.com: Buy Engage Blush and Drizzle Combo Set online only for Rs. 266 from Flipkart.com. Only Genuine Products. 30 Day Replacement Guarantee. Free Shipping. Cash On Delivery!...\n",
      "\n",
      "\n",
      "Catégorie : Kitchen & Dining\n",
      "Printland PMBA1044 Ceramic Mug (350 ml)\n",
      "                         Price: Rs. 299\n",
      "\t\t\t\t\n",
      "\t\t\tPrintland coffee mug is an adorable and a fantastic coffee mug. One can enjoy their morning coffee/tea in this huge mug. It is made of ceramic material. It is a perfect add on to your kitchen wardrobe. It looks very stylish & elegant to serve tea/coffee in this mug during a casual get together at home. It is also a perfect gift to be presented to your loved one.\n",
      "Printland coffee mug is an adorable and a fantastic coffee mug. One can enjoy their morning coffee/tea in this huge mug. It is made of ceramic material. It is a perfect add on to your kitchen wardrobe. It looks very stylish & elegant to serve tea/coffee in this mug during a casual get together at home. It is also a perfect gift to be presented to your loved one....\n",
      "\n",
      "\n",
      "Catégorie : Home Furnishing\n",
      "Key Features of Furnishing Zone Printed Back Cushion Attractive Colours Fiber Filled Great As Decorative Economy Range Machine Washable,Furnishing Zone Printed Back Cushion (Pack of2, Gold) Price: Rs. 295 Soft Fur Cushion For Your Loved Ones (14inch),Beautifully Crafted,Decorative,Washable,Gift Item,Specifications of Furnishing Zone Printed Back Cushion (Pack of2, Gold) General External Material Polyester Velvet Pillow Cover Material Polyester Velvet Brand Furnishing Zone Pillow Cover Design Two Sided Designed Fabric Sweat Absorbent Yes Type Back Cushion Model Name TTFUR-01 Filling Material Microfibre Hand Washable Yes Model ID TT-03 Pillow Design Rectangle Color Gold Dimensions Weight 435 g Length 35.56 cm Width 35.56 cm Depth 10.16 cm In the Box Number of Contents in Sales Package 2 Sales Package 2 Cushions...\n",
      "\n",
      "\n",
      "Catégorie : Computers\n",
      "Key Features of FRENEMY MPAD271 Mousepad smooth surface finish move quickly glossy rich finish easy to clean,FRENEMY MPAD271 Mousepad (Multicolor) Price: Rs. 169 FRENEMY not only sale best quality mousepad but also make a long lasting relationship with buyer by quality products. FRENEMY Mousepad is smooth surface finish, making mouse move quickly across the entire mousepad. Zero hindrance, broad area with glossy rich finish. Brilliant imprint permanently print into pad. It won't crack or peel & Stain-resistant, high-density fabric construction is easy-to-clean.,Specifications of FRENEMY MPAD271 Mousepad (Multicolor) General Specifications Brand FRENEMY Material Non-slip Rubber Base, High Quality non slip fabric Platform PC Model Id MPAD271 Features Duratble & flexible for portibility Color Multicolor Dimensions Weight 150 g Length 179 mm Height 3 mm Width 218 mm In the Box Mousepad, Warranty Card...\n",
      "\n",
      "\n",
      "Catégorie : Kitchen & Dining\n",
      "Buy Metallino Kadhai NA L for Rs.721 online. Metallino Kadhai NA L at best prices with FREE shipping & cash on delivery. Only Genuine Products. 30 Day Replacement Guarantee....\n",
      "\n",
      "\n",
      "Catégorie : Home Furnishing\n",
      "Key Features of House This Queen Cotton Duvet Cover Material:100% Cotton Outer.Inner Polyfill Thrade :210 Dimension: Duvet Cover 229X274 Cms 1 Double Duvet Cover,Specifications of House This Queen Cotton Duvet Cover (Grey) General Brand House This Closure Button Design Code P21821 Material Cotton Pattern Printed Thread Count 210 Style Code Dco-Smart Stripe-Black Grey Size Queen Color Grey Dimensions Length 107 inch / 274 cm Width 90 inch / 229 cm In the Box Number of Contents in Sales Package Pack of 1 Fabric Care Machine Washable, Do Not Soak Additional Features Reversible No...\n",
      "\n",
      "\n",
      "Catégorie : Kitchen & Dining\n",
      "Buy Supreme Cookwares Kadhai 1.5 L for Rs.799 online. Supreme Cookwares Kadhai 1.5 L at best prices with FREE shipping & cash on delivery. Only Genuine Products. 30 Day Replacement Guarantee....\n",
      "\n",
      "\n",
      "Catégorie : Kitchen & Dining\n",
      "Key Features of Omic Poto-Blue 1000 ml Sipper 1000 ml,Omic Poto-Blue 1000 ml Sipper (Pack of 1, Blue) Price: Rs. 549 Rejuvenate yourself with refreshing fruit flavoured water, Exclusively from the house of OMIC. OMIC POTO is a beautifully-designed, eco-friendly water bottle that allows you to take delicious, nutrient-rich, fruit infused water on the go. Allowing limitless combinations of fresh fruit, teas and herbs the bottle provides a great alternative to plain water and removes the temptation of sugary drinks. It is well known fact that we all need to drink lots of water and research shows we drink more when it is flavored. Omic Poto gives you natural fruit flavoring drinking water which is healthy and extra calories free. Made of high quality Tritan Material, scratch resistence, unbreakable, BPA free for health safety and leak proof. Withstands subfreezing to boiling temperature of water. Easy to clean and suitable for School, picnic, offices, gym, travel, trek, etc. Available in four different color variants, your options are endless when it comes to creating healthy, fresh fruit infused water. \"Give up your plain water habit and define what's in your water bottle\".,Specifications of Omic Poto-Blue 1000 ml Sipper (Pack of 1, Blue) General Body Material 100% BPA Free, Tritan Material Type Sipper In the Box Number of Contents in Sales Package Pack of 1 Sales Package 1 Bottle of 1000 ML...\n",
      "\n",
      "\n",
      "Catégorie : Home Decor & Festive Needs\n",
      "Buy Aapno Rajasthan Marvel In Marble - Gold Embossed Roli Tika Chopra Showpiece  -  7.62 cm for Rs.600 online. Aapno Rajasthan Marvel In Marble - Gold Embossed Roli Tika Chopra Showpiece  -  7.62 cm at best prices with FREE shipping & cash on delivery. Only Genuine Products. 30 Day Replacement Guarantee....\n",
      "\n",
      "\n",
      "Catégorie : Kitchen & Dining\n",
      "Rockmantra Gamming Wallpaper Ceramic Mug (5.5 l)\n",
      "                         Price: Rs. 349\n",
      "\t\t\t\t\n",
      "Size : 3.5\" X 4\"icg yet fresh start to your day. An exclusive creation by Rockmantra, this mug features porcelain crafting ensuring the design stays permanent for years to come and making it a perfect pick to gift your loved ones too!Dishwasher and microwave safe. Product details and specifications :\n",
      "Size : 3.5\" X 4\"...t fresh start to your day. An exclusive creation by Rockmantra, this mug features porcelain crafting ensuring the design stays permanent for years to come and making it a perfect pick to gift your loved ones too!Dishwasher and microwave safe. Product details and specifications :\n",
      "\n",
      "\n",
      "Catégorie : Home Furnishing\n",
      "Buy Mandhania Cotton Bath Towel at Rs. 280 at Flipkart.com. Only Genuine Products. Free Shipping. Cash On Delivery!...\n",
      "\n",
      "\n",
      "Catégorie : Watches\n",
      "Flippd FDRBB1614 Fibre Analog Watch  - For Men - Buy Flippd FDRBB1614 Fibre Analog Watch  - For Men  FDRBB1614 Online at Rs.750 in India Only at Flipkart.com. Water Resistant, Buckle Clasp, Round Dial, Black Strap - Great Discounts, Only Genuine Products, 30 Day Replacement Guarantee, Free Shipping. Cash On Delivery!...\n",
      "\n",
      "\n",
      "Catégorie : Beauty and Personal Care\n",
      "Key Features of Allin Exporters Cumin Seed Oil (Co2 Extract) Ideal For: Men, Women Application Area: All Skin Type: Combination Skin Organic Type: Organic,Allin Exporters Cumin Seed Oil (Co2 Extract) (250 ml) Price: Rs. 3,899 Cumin seed oil extract is obtained from the dried seeds of cumin plant, botanically known as Cuminum cyminum, through the method of Co2 extraction method. It is regarded as the best oil for use over joints and muscles to provided an utmost level of relaxation. The use of this oil extract as a massage oil in dilution with carrier oil also helps to provide a soothing feel to mind. In particular, cumin seed oil extract blends perfectly with Chamomile, Angelica, Lavender, Rosemary, Caraway, and other carrier or essential oils.,Specifications of Allin Exporters Cumin Seed Oil (Co2 Extract) (250 ml) In the Box Essential Oil Body & Essential Oil Traits Ideal For Men, Women Application Area All Organic Yes Organic Type Organic General Traits Brand Allin Exporters Skin Type Combination Skin Container Type Bottle Quantity 250 ml Model Name Cumin Seed Oil (Co2 Extract)...\n",
      "\n",
      "\n",
      "Catégorie : Home Furnishing\n",
      "Key Features of Prime Printed 8 Seater Table Cover Length 90 inch/228 cm Width 60 inch/152 cm,Prime Printed 8 Seater Table Cover (Multicolor, PVC) Price: Rs. 899 Prime Dining Table Cover Printed 8 Seater,Specifications of Prime Printed 8 Seater Table Cover (Multicolor, PVC) In The Box Number of Contents in Sales Package Pack of 1 General Brand Prime Type Table Cover Model Name 290P Material PVC Model ID 290 Color Multicolor Dimensions Weight 550 g Length 90 inch / 228 cm Width 60 inch / 152 cm Seating Capacity 8 Seater...\n",
      "\n",
      "\n"
     ]
    }
   ],
   "source": [
    "for idx, art in articles_text_sample.iterrows():\n",
    "    txt_1 = f\"Catégorie : {art['category_1']}\\n\"\n",
    "    print(txt_1 + art['description'] + \"...\" + \"\\n\\n\")"
   ]
  },
  {
   "cell_type": "code",
   "execution_count": 55,
   "id": "7855377f-6481-4ba8-b68c-fbe00bff4c7f",
   "metadata": {},
   "outputs": [],
   "source": [
    "# Enregistrer les données intitiales filtrées pour le traitement avec BERT\n",
    "\n",
    "# Créer le DataFrame\n",
    "articles_text_BERT = pd.DataFrame({\n",
    "    'description': articles_text['description'],\n",
    "    'category_product': articles_text['category_1']\n",
    "})\n",
    "articles_text_BERT.to_csv(\"C:\\\\Users\\\\druar\\\\OneDrive\\\\Documents\\\\01_Formations\\\\1_Outils_ET_Metier\\\\2024_DataScientist\\\\ProjetsPython\\\\P6\\\\data\\\\articles_text_BERT.csv\",index=False)"
   ]
  },
  {
   "cell_type": "markdown",
   "id": "557e1d40",
   "metadata": {},
   "source": [
    "### 2. Text processing : nettoyer et normaliser les données"
   ]
  },
  {
   "cell_type": "code",
   "execution_count": 50,
   "id": "abc77610",
   "metadata": {},
   "outputs": [],
   "source": [
    "# articles_clean_sample = articles_clean.sample(frac=0.3) \n",
    "# Pour prendre qu'une partie des données si la base est trop lourde pour les traitements"
   ]
  },
  {
   "cell_type": "markdown",
   "id": "1b6638f3",
   "metadata": {},
   "source": [
    "1. Tokenisation\n",
    "2. Stopwords\n",
    "3. Lemmatisation\n",
    "4. Tokens uniques - tokens trop présents"
   ]
  },
  {
   "cell_type": "markdown",
   "id": "5cecedb3",
   "metadata": {},
   "source": [
    "#### -- Tokens dans les descriptions initiales --"
   ]
  },
  {
   "cell_type": "code",
   "execution_count": 275,
   "id": "8653eea6",
   "metadata": {},
   "outputs": [],
   "source": [
    "list_tokens_initial = []\n",
    "for sentence in articles_text['description'] : \n",
    "    tokenize_sentence = nltk.tokenize.word_tokenize(sentence)\n",
    "    list_tokens_initial.append(tokenize_sentence)"
   ]
  },
  {
   "cell_type": "code",
   "execution_count": 277,
   "id": "68ae71e7",
   "metadata": {},
   "outputs": [
    {
     "data": {
      "text/plain": [
       "91612"
      ]
     },
     "execution_count": 277,
     "metadata": {},
     "output_type": "execute_result"
    }
   ],
   "source": [
    "# Nombre de mots (=tokens) dans les définitions initiales : 91 612\n",
    "tokens_global = [item for sublist in list_tokens_initial for item in sublist]\n",
    "len(tokens_global)"
   ]
  },
  {
   "cell_type": "code",
   "execution_count": 279,
   "id": "0e9b7a05",
   "metadata": {},
   "outputs": [
    {
     "data": {
      "text/plain": [
       "8167"
      ]
     },
     "execution_count": 279,
     "metadata": {},
     "output_type": "execute_result"
    }
   ],
   "source": [
    "len(set(tokens_global)) # mots uniques, set supprime les doublons"
   ]
  },
  {
   "cell_type": "markdown",
   "id": "32b1ad1b",
   "metadata": {},
   "source": [
    "On initialise : \n",
    "- les stopwords, ce sont les mots qui apparaissent très fréquemment mais qui n'apporte pas de sens à la phrase (comme \"de\", \"le\", \"une\")\n",
    "- les mots (words) qui proviennent d'un dictionnaire anglais\n",
    "- un lemmatizer, cette objet nous permet de préserver la racine des mots de tel sorte que deux mots ayant une même souche seront considérés comme un seul et même mot (exemple : 'voisine' et 'voisinage' seront tous deux changer en 'voisin')"
   ]
  },
  {
   "cell_type": "code",
   "execution_count": 282,
   "id": "54707243",
   "metadata": {},
   "outputs": [],
   "source": [
    "stopwords = set(stopwords.words('english'))\n",
    "words = set(nltk.corpus.words.words())\n",
    "lemma = WordNetLemmatizer()\n",
    "# lemmatizer = nlp.get_pipe(\"lemmatizer\")"
   ]
  },
  {
   "cell_type": "code",
   "execution_count": 284,
   "id": "e6b8bfae",
   "metadata": {},
   "outputs": [],
   "source": [
    "def Preprocess_listofSentence(listofSentence):\n",
    "    ''' Fonction de preprocessing qui va successivement :\n",
    "            - enlever la ponctuation et les majuscules\n",
    "            - enlever les chiffres\n",
    "            - transformer les phrases en liste de tokens (en liste de mots) et lemmatizer \n",
    "            - enlever les stopwords (mots n'apportant pas de sens)\n",
    "            - retirer les mots de moins de 2 lettres\n",
    "            - reformer les phrases avec les mots restants \n",
    "            - transformer les phrases finales en liste de tokens (en liste de mots)'''\n",
    "    \n",
    "    preprocess_description = []\n",
    "    preprocess_tokens = []\n",
    "    \n",
    "    for sentence in listofSentence :\n",
    "        \n",
    "        # enlever la ponctuation et les majuscules\n",
    "        sentence_w_punct = \"\".join([i.lower() for i in sentence if i not in string.punctuation])\n",
    "        \n",
    "        # enlever les chiffres\n",
    "        sentence_w_num = ''.join(i for i in sentence_w_punct if not i.isdigit())\n",
    "        \n",
    "        # Spacy lemmatizer et transformer les phrases en tokens\n",
    "        # tokens = nlp(sentence_w_num)\n",
    "        # words_lemmatize = [w.lemma_ for w in tokens]\n",
    "        \n",
    "        # Nltk transformer les phrases en tokens et lemmatizer\n",
    "        tokens = word_tokenize(sentence_w_num)\n",
    "        words_lemmatize = [lemma.lemmatize(lemma.lemmatize(lemma.lemmatize(w,pos='v'),pos='n'),pos='a') for w in tokens]\n",
    "        \n",
    "        # enlever les stopwords (mots n'apportant pas de sens)\n",
    "        words_w_stopwords = [i for i in words_lemmatize if i not in stopwords]\n",
    "        \n",
    "        # Enlever les mots de deux lettres ou moins\n",
    "        words_filtered = [w for w in words_w_stopwords if len(w) > 2]\n",
    "        \n",
    "        # reformer les phrases avec les mots restants\n",
    "        sentence_clean = ' '.join(w for w in words_filtered)\n",
    "        \n",
    "        # transformer les phrases finales en liste de tokens (en liste de mots)\n",
    "        tokenize_description = word_tokenize(sentence_clean)\n",
    "        \n",
    "        preprocess_tokens.append(tokenize_description)\n",
    "        preprocess_description.append(sentence_clean)\n",
    "    \n",
    "    return preprocess_description, preprocess_tokens"
   ]
  },
  {
   "cell_type": "code",
   "execution_count": 286,
   "id": "a748c21c",
   "metadata": {},
   "outputs": [],
   "source": [
    "# Avec nltk :\n",
    "tokens = word_tokenize('features dogs executed lovely exclusively assorted absorbency')\n",
    "tmp = [lemma.lemmatize(lemma.lemmatize(lemma.lemmatize(w,pos='v'),pos='n'),pos='a') for w in tokens]"
   ]
  },
  {
   "cell_type": "code",
   "execution_count": 288,
   "id": "305d9bba",
   "metadata": {},
   "outputs": [
    {
     "data": {
      "text/plain": [
       "['feature', 'dog', 'execute', 'lovely', 'exclusively', 'assort', 'absorbency']"
      ]
     },
     "execution_count": 288,
     "metadata": {},
     "output_type": "execute_result"
    }
   ],
   "source": [
    "tmp[0:50]"
   ]
  },
  {
   "cell_type": "code",
   "execution_count": 290,
   "id": "22deaba0",
   "metadata": {},
   "outputs": [
    {
     "name": "stdout",
     "output_type": "stream",
     "text": [
      "Token: features, POS Tag: VERB, Lemmatise: feature\n",
      "Token: dogs, POS Tag: NOUN, Lemmatise: dog\n",
      "Token: executed, POS Tag: VERB, Lemmatise: execute\n",
      "Token: lovely, POS Tag: ADJ, Lemmatise: lovely\n",
      "Token: exclusively, POS Tag: ADV, Lemmatise: exclusively\n",
      "Token: assorted, POS Tag: ADJ, Lemmatise: assorted\n",
      "Token: absorbency, POS Tag: NOUN, Lemmatise: absorbency\n"
     ]
    }
   ],
   "source": [
    "# Avec spacy :\n",
    "tokens = nlp('features dogs executed lovely exclusively assorted absorbency')\n",
    "for token in tokens:\n",
    "    print(f\"Token: {token.text}, POS Tag: {token.pos_}, Lemmatise: {token.lemma_}\")"
   ]
  },
  {
   "cell_type": "code",
   "execution_count": 292,
   "id": "b15b0b8b-fd21-4c1e-af5a-30fbc66a8097",
   "metadata": {},
   "outputs": [
    {
     "name": "stdout",
     "output_type": "stream",
     "text": [
      "Token: Key, POS Tag: PROPN\n",
      "Token: Features, POS Tag: NOUN\n",
      "Token: of, POS Tag: ADP\n",
      "Token: AKUP, POS Tag: ADJ\n",
      "Token: life, POS Tag: NOUN\n",
      "Token: -, POS Tag: PUNCT\n",
      "Token: is, POS Tag: AUX\n",
      "Token: -, POS Tag: PUNCT\n",
      "Token: not, POS Tag: PART\n",
      "Token: -, POS Tag: PUNCT\n",
      "Token: living, POS Tag: VERB\n",
      "Token: Ceramic, POS Tag: PROPN\n",
      "Token: Mug, POS Tag: PROPN\n",
      "Token: Pack, POS Tag: PROPN\n",
      "Token: of, POS Tag: ADP\n",
      "Token: 1, POS Tag: NUM\n",
      "Token: Mug, POS Tag: PROPN\n",
      "Token: ,, POS Tag: PUNCT\n",
      "Token: AKUP, POS Tag: ADJ\n",
      "Token: life, POS Tag: NOUN\n",
      "Token: -, POS Tag: PUNCT\n",
      "Token: is, POS Tag: AUX\n",
      "Token: -, POS Tag: PUNCT\n",
      "Token: not, POS Tag: PART\n",
      "Token: -, POS Tag: PUNCT\n",
      "Token: living, POS Tag: VERB\n",
      "Token: Ceramic, POS Tag: PROPN\n",
      "Token: Mug, POS Tag: PROPN\n",
      "Token: (, POS Tag: PUNCT\n",
      "Token: 300, POS Tag: NUM\n",
      "Token: ml, POS Tag: NOUN\n",
      "Token: ), POS Tag: PUNCT\n",
      "Token: Price, POS Tag: NOUN\n",
      "Token: :, POS Tag: PUNCT\n",
      "Token: Rs, POS Tag: NOUN\n",
      "Token: ., POS Tag: NOUN\n",
      "Token: 259, POS Tag: NUM\n",
      "Token: AKUP, POS Tag: ADJ\n",
      "Token: Ceramic, POS Tag: ADJ\n",
      "Token: coffee, POS Tag: NOUN\n",
      "Token: mugs, POS Tag: NOUN\n",
      "Token: gives, POS Tag: VERB\n",
      "Token: you, POS Tag: PRON\n",
      "Token: the, POS Tag: DET\n",
      "Token: best, POS Tag: ADJ\n",
      "Token: quality, POS Tag: NOUN\n",
      "Token: printed, POS Tag: VERB\n",
      "Token: mugs, POS Tag: NOUN\n",
      "Token: which, POS Tag: PRON\n",
      "Token: you, POS Tag: PRON\n",
      "Token: can, POS Tag: AUX\n",
      "Token: gift, POS Tag: VERB\n",
      "Token: to, POS Tag: ADP\n",
      "Token: your, POS Tag: PRON\n",
      "Token: loved, POS Tag: VERB\n",
      "Token: ones, POS Tag: NOUN\n",
      "Token: ., POS Tag: PUNCT\n",
      "Token: We, POS Tag: PRON\n",
      "Token: provide, POS Tag: VERB\n",
      "Token: good, POS Tag: ADJ\n",
      "Token: quality, POS Tag: NOUN\n",
      "Token: of, POS Tag: ADP\n",
      "Token: products, POS Tag: NOUN\n",
      "Token: with, POS Tag: ADP\n",
      "Token: packing, POS Tag: NOUN\n",
      "Token: ., POS Tag: PUNCT\n",
      "Token: Coffee, POS Tag: NOUN\n",
      "Token: mugs, POS Tag: NOUN\n",
      "Token: made, POS Tag: VERB\n",
      "Token: of, POS Tag: ADP\n",
      "Token: ceramic, POS Tag: ADJ\n",
      "Token: clay, POS Tag: NOUN\n",
      "Token: with, POS Tag: ADP\n",
      "Token: the, POS Tag: DET\n",
      "Token: volume, POS Tag: NOUN\n",
      "Token: capacity, POS Tag: NOUN\n",
      "Token: of, POS Tag: ADP\n",
      "Token: 300ml, POS Tag: PROPN\n",
      "Token: each, POS Tag: PRON\n",
      "Token: ., POS Tag: PUNCT\n",
      "Token: You, POS Tag: PRON\n",
      "Token: can, POS Tag: AUX\n",
      "Token: buy, POS Tag: VERB\n",
      "Token: it, POS Tag: PRON\n",
      "Token: for, POS Tag: ADP\n",
      "Token: yourself, POS Tag: PRON\n",
      "Token: to, POS Tag: PART\n",
      "Token: make, POS Tag: VERB\n",
      "Token: your, POS Tag: PRON\n",
      "Token: moment, POS Tag: NOUN\n",
      "Token: unforgettable, POS Tag: ADJ\n",
      "Token: forever, POS Tag: ADV\n",
      "Token: ., POS Tag: PUNCT\n",
      "Token: Specifications, POS Tag: NOUN\n",
      "Token: Product, POS Tag: NOUN\n",
      "Token: Dimensions, POS Tag: NOUN\n",
      "Token: :, POS Tag: PUNCT\n",
      "Token: Mugs, POS Tag: PROPN\n",
      "Token: -, POS Tag: PUNCT\n",
      "Token: Height, POS Tag: PROPN\n",
      "Token: :, POS Tag: PUNCT\n",
      "Token: 9.5, POS Tag: NUM\n",
      "Token: cms, POS Tag: PROPN\n",
      "Token: ,, POS Tag: PUNCT\n",
      "Token: Diameter, POS Tag: PROPN\n",
      "Token: :, POS Tag: PUNCT\n",
      "Token: 8, POS Tag: NUM\n",
      "Token: cms, POS Tag: NOUN\n",
      "Token: ., POS Tag: PUNCT\n",
      "Token: Item, POS Tag: PROPN\n",
      "Token: Type, POS Tag: PROPN\n",
      "Token: :, POS Tag: PUNCT\n",
      "Token: Coffee, POS Tag: PROPN\n",
      "Token: Mug, POS Tag: PROPN\n",
      "Token: Color, POS Tag: PROPN\n",
      "Token: :, POS Tag: PUNCT\n",
      "Token: Multi, POS Tag: ADJ\n",
      "Token: -, POS Tag: PROPN\n",
      "Token: Color, POS Tag: ADJ\n",
      "Token: Material, POS Tag: PROPN\n",
      "Token: :, POS Tag: PUNCT\n",
      "Token: Clay, POS Tag: NOUN\n",
      "Token: Finish, POS Tag: PROPN\n",
      "Token: :, POS Tag: PUNCT\n",
      "Token: Glossy, POS Tag: PROPN\n",
      "Token: Specialty, POS Tag: PROPN\n",
      "Token: :, POS Tag: PUNCT\n",
      "Token: Lovely, POS Tag: PROPN\n",
      "Token: Style, POS Tag: PROPN\n",
      "Token: Wash, POS Tag: PROPN\n",
      "Token: care, POS Tag: NOUN\n",
      "Token: :, POS Tag: PUNCT\n",
      "Token: Remove, POS Tag: VERB\n",
      "Token: dirt, POS Tag: NOUN\n",
      "Token: by, POS Tag: ADP\n",
      "Token: using, POS Tag: VERB\n",
      "Token: a, POS Tag: DET\n",
      "Token: soft, POS Tag: ADJ\n",
      "Token: fabric, POS Tag: NOUN\n",
      "Token: to, POS Tag: PART\n",
      "Token: clean, POS Tag: VERB\n",
      "Token: and, POS Tag: CCONJ\n",
      "Token: then, POS Tag: ADV\n",
      "Token: wipe, POS Tag: VERB\n",
      "Token: with, POS Tag: ADP\n",
      "Token: a, POS Tag: DET\n",
      "Token: moist, POS Tag: ADJ\n",
      "Token: cloth, POS Tag: NOUN\n",
      "Token: ., POS Tag: PUNCT\n",
      "Token: Disclaimer, POS Tag: NOUN\n",
      "Token: :, POS Tag: PUNCT\n",
      "Token: The, POS Tag: DET\n",
      "Token: fine, POS Tag: ADJ\n",
      "Token: design, POS Tag: NOUN\n",
      "Token: ,, POS Tag: PUNCT\n",
      "Token: pattern, POS Tag: NOUN\n",
      "Token: and, POS Tag: CCONJ\n",
      "Token: color, POS Tag: NOUN\n",
      "Token: tone, POS Tag: NOUN\n",
      "Token: of, POS Tag: ADP\n",
      "Token: the, POS Tag: DET\n",
      "Token: product, POS Tag: NOUN\n",
      "Token: may, POS Tag: AUX\n",
      "Token: vary, POS Tag: VERB\n",
      "Token: slightly, POS Tag: ADV\n",
      "Token: from, POS Tag: ADP\n",
      "Token: that, POS Tag: PRON\n",
      "Token: shown, POS Tag: VERB\n",
      "Token: in, POS Tag: ADP\n",
      "Token: the, POS Tag: DET\n",
      "Token: image, POS Tag: NOUN\n",
      "Token: ., POS Tag: PUNCT\n",
      "Token: However, POS Tag: ADV\n",
      "Token: ,, POS Tag: PUNCT\n",
      "Token: there, POS Tag: PRON\n",
      "Token: would, POS Tag: AUX\n",
      "Token: not, POS Tag: PART\n",
      "Token: be, POS Tag: AUX\n",
      "Token: any, POS Tag: DET\n",
      "Token: compromise, POS Tag: NOUN\n",
      "Token: in, POS Tag: ADP\n",
      "Token: quality, POS Tag: NOUN\n",
      "Token: ., POS Tag: PUNCT\n",
      "Token: Brand, POS Tag: NOUN\n",
      "Token: :, POS Tag: PUNCT\n",
      "Token: AKUP, POS Tag: NOUN\n",
      "Token: designs, POS Tag: NOUN\n",
      "Token: &, POS Tag: CCONJ\n",
      "Token: co, POS Tag: NOUN\n",
      "Token: ,, POS Tag: PUNCT\n",
      "Token: Specifications, POS Tag: NOUN\n",
      "Token: of, POS Tag: ADP\n",
      "Token: AKUP, POS Tag: ADJ\n",
      "Token: life, POS Tag: NOUN\n",
      "Token: -, POS Tag: PUNCT\n",
      "Token: is, POS Tag: AUX\n",
      "Token: -, POS Tag: PUNCT\n",
      "Token: not, POS Tag: PART\n",
      "Token: -, POS Tag: PUNCT\n",
      "Token: living, POS Tag: VERB\n",
      "Token: Ceramic, POS Tag: PROPN\n",
      "Token: Mug, POS Tag: PROPN\n",
      "Token: (, POS Tag: PUNCT\n",
      "Token: 300, POS Tag: NUM\n",
      "Token: ml, POS Tag: NOUN\n",
      "Token: ), POS Tag: PUNCT\n",
      "Token: General, POS Tag: PROPN\n",
      "Token: Type, POS Tag: PROPN\n",
      "Token: Mug, POS Tag: PROPN\n",
      "Token: Mug, POS Tag: PROPN\n",
      "Token: Capacity, POS Tag: PROPN\n",
      "Token: 300, POS Tag: NUM\n",
      "Token: ml, POS Tag: NOUN\n",
      "Token: Material, POS Tag: PROPN\n",
      "Token: Ceramic, POS Tag: PROPN\n",
      "Token: Freezer, POS Tag: PROPN\n",
      "Token: Safe, POS Tag: PROPN\n",
      "Token: Yes, POS Tag: INTJ\n",
      "Token: Microwave, POS Tag: PROPN\n",
      "Token: Safe, POS Tag: PROPN\n",
      "Token: No, POS Tag: PROPN\n",
      "Token: Dimensions, POS Tag: PROPN\n",
      "Token: Diameter, POS Tag: PROPN\n",
      "Token: 8, POS Tag: NUM\n",
      "Token: mm, POS Tag: NOUN\n",
      "Token: Weight, POS Tag: NOUN\n",
      "Token: 330, POS Tag: NUM\n",
      "Token: g, POS Tag: NOUN\n",
      "Token: Height, POS Tag: PROPN\n",
      "Token: 9.5, POS Tag: NUM\n",
      "Token: mm, POS Tag: NOUN\n",
      "Token: Depth, POS Tag: NOUN\n",
      "Token: 8, POS Tag: NUM\n",
      "Token: mm, POS Tag: NOUN\n",
      "Token: In, POS Tag: ADP\n",
      "Token: the, POS Tag: DET\n",
      "Token: Box, POS Tag: PROPN\n",
      "Token: Sales, POS Tag: PROPN\n",
      "Token: Package, POS Tag: PROPN\n",
      "Token: 1, POS Tag: NUM\n",
      "Token: Mug, POS Tag: PROPN\n"
     ]
    }
   ],
   "source": [
    "# Phrase à analyser\n",
    "text = articles_text['description'][50]\n",
    "# Analyse de la phrase\n",
    "doc = nlp(text)\n",
    "# Affichage des tokens avec leurs POS tags\n",
    "for token in doc:\n",
    "    print(f\"Token: {token.text}, POS Tag: {token.pos_}\")"
   ]
  },
  {
   "cell_type": "code",
   "execution_count": 294,
   "id": "e378ce70",
   "metadata": {},
   "outputs": [],
   "source": [
    "# lemmatizer.lemmatize('brilliantly',pos='v') # Par défaut, appliqué sur les noms uniquement, pos='v' pour les verbes\n",
    "# PorterStemmer, un peu strict dans notre cas, coupe tous les sufixes, préfixes\n",
    "# Tester le lemmatizer de Spacy, différents niveaux de complexité, plus lent et paraît moins efficace sur nos données"
   ]
  },
  {
   "cell_type": "code",
   "execution_count": 296,
   "id": "25707c3c",
   "metadata": {},
   "outputs": [],
   "source": [
    "preprocess_description, preprocess_tokens = Preprocess_listofSentence(articles_text['description'])"
   ]
  },
  {
   "cell_type": "code",
   "execution_count": 297,
   "id": "fb4e3445",
   "metadata": {},
   "outputs": [
    {
     "name": "stdout",
     "output_type": "stream",
     "text": [
      "Phrase de base : Key Features of AKUP life-is-not-living Ceramic Mug Pack of 1 Mug,AKUP life-is-not-living Ceramic Mug (300 ml) Price: Rs. 259 AKUP Ceramic coffee mugs gives you the best quality printed mugs which you can gift to your loved ones. We provide good quality of products with packing. Coffee mugs made of ceramic clay with the volume capacity of 300ml each. You can buy it for yourself to make your moment unforgettable forever. Specifications Product Dimensions: Mugs - Height: 9.5 cms, Diameter: 8 cms. Item Type: Coffee Mug Color: Multi-Color Material: Clay Finish: Glossy Specialty: Lovely Style Wash care: Remove dirt by using a soft fabric to clean and then wipe with a moist cloth. Disclaimer: The fine design, pattern and color tone of the product may vary slightly from that shown in the image. However, there would not be any compromise in quality. Brand: AKUP designs & co,Specifications of AKUP life-is-not-living Ceramic Mug (300 ml) General Type Mug Mug Capacity 300 ml Material Ceramic Freezer Safe Yes Microwave Safe No Dimensions Diameter 8 mm Weight 330 g Height 9.5 mm Depth 8 mm In the Box Sales Package 1 Mug\n",
      "\n",
      "Phrase nettoyée : key feature akup lifeisnotliving ceramic mug pack mugakup lifeisnotliving ceramic mug price akup ceramic coffee mug give best quality print mug gift love one provide good quality product pack coffee mug make ceramic clay volume capacity buy make moment unforgettable forever specification product dimension mug height diameter item type coffee mug color multicolor material clay finish glossy specialty lovely style wash care remove dirt use soft fabric clean wipe moist cloth disclaimer fine design pattern color tone product may vary slightly show image however would compromise quality brand akup design cospecifications akup lifeisnotliving ceramic mug general type mug mug capacity material ceramic freezer safe yes microwave safe dimension diameter weight height depth box sale package mug\n",
      "\n",
      "Tokens nettoyés : \n",
      "['key', 'feature', 'akup', 'lifeisnotliving', 'ceramic', 'mug', 'pack', 'mugakup', 'lifeisnotliving', 'ceramic', 'mug', 'price', 'akup', 'ceramic', 'coffee', 'mug', 'give', 'best', 'quality', 'print', 'mug', 'gift', 'love', 'one', 'provide', 'good', 'quality', 'product', 'pack', 'coffee', 'mug', 'make', 'ceramic', 'clay', 'volume', 'capacity', 'buy', 'make', 'moment', 'unforgettable', 'forever', 'specification', 'product', 'dimension', 'mug', 'height', 'diameter', 'item', 'type', 'coffee', 'mug', 'color', 'multicolor', 'material', 'clay', 'finish', 'glossy', 'specialty', 'lovely', 'style', 'wash', 'care', 'remove', 'dirt', 'use', 'soft', 'fabric', 'clean', 'wipe', 'moist', 'cloth', 'disclaimer', 'fine', 'design', 'pattern', 'color', 'tone', 'product', 'may', 'vary', 'slightly', 'show', 'image', 'however', 'would', 'compromise', 'quality', 'brand', 'akup', 'design', 'cospecifications', 'akup', 'lifeisnotliving', 'ceramic', 'mug', 'general', 'type', 'mug', 'mug', 'capacity', 'material', 'ceramic', 'freezer', 'safe', 'yes', 'microwave', 'safe', 'dimension', 'diameter', 'weight', 'height', 'depth', 'box', 'sale', 'package', 'mug']\n"
     ]
    }
   ],
   "source": [
    "print('Phrase de base : '+articles_text['description'][50]+'\\n')\n",
    "print('Phrase nettoyée : '+preprocess_description[50]+'\\n')\n",
    "print('Tokens nettoyés : ')\n",
    "print(preprocess_tokens[50])"
   ]
  },
  {
   "cell_type": "markdown",
   "id": "64c4f849",
   "metadata": {},
   "source": [
    "#### -- Filtre sur les tokens --"
   ]
  },
  {
   "cell_type": "code",
   "execution_count": 431,
   "id": "e7d86749",
   "metadata": {},
   "outputs": [
    {
     "name": "stdout",
     "output_type": "stream",
     "text": [
      "['key', 'feature', 'elegance', 'polyester', 'multicolor', 'abstract', 'eyelet', 'door', 'curtain', 'floral', 'curtainelegance', 'polyester', 'multicolor', 'abstract', 'eyelet', 'door', 'curtain', 'height', 'pack', 'price', 'curtain', 'enhance', 'look', 'interiorsthis', 'curtain', 'make', 'high', 'quality', 'polyester', 'fabricit']\n"
     ]
    }
   ],
   "source": [
    "# Analyse des tokens au global :\n",
    "tokens_global = [item for sublist in preprocess_tokens for item in sublist]\n",
    "print(tokens_global[:30])"
   ]
  },
  {
   "cell_type": "code",
   "execution_count": 433,
   "id": "a1333fac",
   "metadata": {},
   "outputs": [
    {
     "data": {
      "text/plain": [
       "52231"
      ]
     },
     "execution_count": 433,
     "metadata": {},
     "output_type": "execute_result"
    }
   ],
   "source": [
    "len(tokens_global)\n",
    "# Il y a 52231 tokens dans les descriptions après le 1er nettoyage"
   ]
  },
  {
   "cell_type": "code",
   "execution_count": 435,
   "id": "a4d98ce0",
   "metadata": {},
   "outputs": [
    {
     "data": {
      "text/plain": [
       "4640"
      ]
     },
     "execution_count": 435,
     "metadata": {},
     "output_type": "execute_result"
    }
   ],
   "source": [
    "len(set(tokens_global)) # 4640 mots uniques, set supprime les doublons"
   ]
  },
  {
   "cell_type": "code",
   "execution_count": 437,
   "id": "2b7ccb90",
   "metadata": {},
   "outputs": [
    {
     "data": {
      "text/plain": [
       "product        861\n",
       "free           612\n",
       "buy            583\n",
       "ship           569\n",
       "delivery       567\n",
       "cash           564\n",
       "genuine        564\n",
       "replacement    559\n",
       "price          557\n",
       "day            552\n",
       "guarantee      473\n",
       "flipkartcom    472\n",
       "mug            449\n",
       "feature        407\n",
       "online         396\n",
       "color          360\n",
       "design         360\n",
       "watch          355\n",
       "pack           341\n",
       "make           338\n",
       "type           324\n",
       "baby           320\n",
       "material       307\n",
       "set            306\n",
       "box            294\n",
       "general        288\n",
       "cotton         286\n",
       "package        277\n",
       "print          276\n",
       "sale           262\n",
       "Name: count, dtype: int64"
      ]
     },
     "execution_count": 437,
     "metadata": {},
     "output_type": "execute_result"
    }
   ],
   "source": [
    "tmp = pd.Series(tokens_global).value_counts()\n",
    "tmp.head(30)\n",
    "# On pourrait déjà supprimer une grande partie de ces termes ? > 250 ? le problème est que 'mug' apparaît assez vite et 'watch'\n",
    "# tmp.tail(20)"
   ]
  },
  {
   "cell_type": "code",
   "execution_count": 439,
   "id": "e0cee796-2be2-4876-b196-dc09c1446668",
   "metadata": {},
   "outputs": [
    {
     "data": {
      "text/plain": [
       "product        861\n",
       "free           612\n",
       "buy            583\n",
       "ship           569\n",
       "delivery       567\n",
       "cash           564\n",
       "genuine        564\n",
       "replacement    559\n",
       "price          557\n",
       "day            552\n",
       "guarantee      473\n",
       "flipkartcom    472\n",
       "Name: count, dtype: int64"
      ]
     },
     "execution_count": 439,
     "metadata": {},
     "output_type": "execute_result"
    }
   ],
   "source": [
    "list_many_words = tmp[tmp>450]\n",
    "list_many_words[:20]"
   ]
  },
  {
   "cell_type": "code",
   "execution_count": 441,
   "id": "75da29a0",
   "metadata": {},
   "outputs": [
    {
     "data": {
      "text/plain": [
       "count    4640.000000\n",
       "mean       11.256681\n",
       "std        42.065730\n",
       "min         1.000000\n",
       "25%         1.000000\n",
       "50%         2.000000\n",
       "75%         6.000000\n",
       "max       861.000000\n",
       "Name: count, dtype: float64"
      ]
     },
     "execution_count": 441,
     "metadata": {},
     "output_type": "execute_result"
    }
   ],
   "source": [
    "tmp.describe()\n",
    "# On pourrait également supprimer les tokens présents une seule fois dans le corpus, il y en a plus de 25%"
   ]
  },
  {
   "cell_type": "code",
   "execution_count": 443,
   "id": "5ea34151",
   "metadata": {},
   "outputs": [
    {
     "data": {
      "text/plain": [
       "hdmi            5\n",
       "shoppingtara    5\n",
       "majesty         5\n",
       "band            5\n",
       "quickly         5\n",
       "frenemy         5\n",
       "pepper          5\n",
       "across          5\n",
       "rejuvenate      5\n",
       "agromech        5\n",
       "nursery         5\n",
       "format          5\n",
       "bean            5\n",
       "infuse          5\n",
       "suave           5\n",
       "watche          5\n",
       "cow             5\n",
       "cargo           5\n",
       "edimax          5\n",
       "trendnet        5\n",
       "wonderchef      5\n",
       "soften          5\n",
       "relative        5\n",
       "cast            5\n",
       "background      5\n",
       "whats           5\n",
       "tiedribbons     5\n",
       "minimum         5\n",
       "shrug           5\n",
       "plan            5\n",
       "Name: count, dtype: int64"
      ]
     },
     "execution_count": 443,
     "metadata": {},
     "output_type": "execute_result"
    }
   ],
   "source": [
    "list_unique_words = tmp[tmp<=5]\n",
    "list_unique_words[:30]"
   ]
  },
  {
   "cell_type": "code",
   "execution_count": 445,
   "id": "6bfb8288",
   "metadata": {},
   "outputs": [
    {
     "data": {
      "text/plain": [
       "3465"
      ]
     },
     "execution_count": 445,
     "metadata": {},
     "output_type": "execute_result"
    }
   ],
   "source": [
    "len(list_unique_words)\n",
    "# 1548 tokens sont présents 1 seule fois\n",
    "# 1022 tokens sont présents 2 fois\n",
    "## 2570 tokens sont présents 2 fois ou moins\n",
    "# 423 tokens sont présents 3 fois\n",
    "# 3465 tokens sont présents 5 fois ou moins"
   ]
  },
  {
   "cell_type": "code",
   "execution_count": 447,
   "id": "ca702561",
   "metadata": {},
   "outputs": [],
   "source": [
    "list_unique_words = list(list_unique_words.index)\n",
    "list_many_words = list(list_many_words.index)"
   ]
  },
  {
   "cell_type": "code",
   "execution_count": 449,
   "id": "489c70f5",
   "metadata": {},
   "outputs": [],
   "source": [
    "# Sauvegarder cette liste dans un df :\n",
    "tmp = pd.DataFrame({\"words\" : list_unique_words})\n",
    "# tmp.to_csv(\"C:\\\\Users\\\\druar\\\\OneDrive\\\\Documents\\\\01_Formations\\\\1_Outils_ET_Metier\\\\2024_DataScientist\\\\ProjetsPython\\\\P6\\\\data\\\\words_2.csv\",index=False)\n",
    "tmp.to_csv(\"C:\\\\Users\\\\druar\\\\OneDrive\\\\Documents\\\\01_Formations\\\\1_Outils_ET_Metier\\\\2024_DataScientist\\\\ProjetsPython\\\\P6\\\\data\\\\words_5.csv\",index=False)"
   ]
  },
  {
   "cell_type": "code",
   "execution_count": 451,
   "id": "5d972fcb",
   "metadata": {},
   "outputs": [],
   "source": [
    "# On fait la même manipulation pour conserver la liste des mots les plus courants : pour le moment, on conserve tout\n",
    "tmp = pd.DataFrame({\"words\" : list_many_words})\n",
    "tmp.to_csv(\"C:\\\\Users\\\\druar\\\\OneDrive\\\\Documents\\\\01_Formations\\\\1_Outils_ET_Metier\\\\2024_DataScientist\\\\ProjetsPython\\\\P6\\\\data\\\\words_many.csv\",index=False)"
   ]
  },
  {
   "cell_type": "code",
   "execution_count": 453,
   "id": "99c6dca1",
   "metadata": {},
   "outputs": [],
   "source": [
    "# Chargement du fichier cleané\n",
    "list_rare_words = pd.read_csv(\"C:\\\\Users\\\\druar\\\\OneDrive\\\\Documents\\\\01_Formations\\\\1_Outils_ET_Metier\\\\2024_DataScientist\\\\ProjetsPython\\\\P6\\\\data\\\\words_5.csv\")\n",
    "list_rare_words = list(list_rare_words['words'])\n",
    "list_many_words = pd.read_csv(\"C:\\\\Users\\\\druar\\\\OneDrive\\\\Documents\\\\01_Formations\\\\1_Outils_ET_Metier\\\\2024_DataScientist\\\\ProjetsPython\\\\P6\\\\data\\\\words_many.csv\")\n",
    "list_many_words = list(list_many_words['words'])"
   ]
  },
  {
   "cell_type": "code",
   "execution_count": 455,
   "id": "fef6ee79",
   "metadata": {},
   "outputs": [],
   "source": [
    "def Preprocess_listofSentence2(listofSentence, \n",
    "                               list_rare_words, \n",
    "                               list_many_words\n",
    "                              ):\n",
    "    ''' Fonction de preprocessing2 qui va successivement :\n",
    "            - transformer les phrases en liste de tokens (en liste de mots)\n",
    "            - retirer les mots présents plusieurs fois dans le commentaire\n",
    "            - reformer les phrases avec les mots restants \n",
    "            - transformer les phrases finales en liste de tokens (en liste de mots)'''\n",
    "    \n",
    "    preprocess_description = []\n",
    "    preprocess_tokens = []\n",
    "    \n",
    "    for sentence in listofSentence :\n",
    "        \n",
    "        # transformer les phrases en liste de tokens (en liste de mots)\n",
    "        tokenize_sentence = word_tokenize(sentence)\n",
    "        \n",
    "        # Après analyse : enlever les unique words (mots apparaissant 2 fois ou moins dans l'ensemble des descriptions)\n",
    "        non_rares_tokens = [i for i in tokenize_sentence if i not in list_rare_words]\n",
    "        \n",
    "        # Après analyse : enlever les many words (mots apparaissant dans plusieurs définitions)\n",
    "        non_many_tokens = [i for i in non_rares_tokens if i not in list_many_words]\n",
    "        \n",
    "        # Reformer les phrases avec les mots restants\n",
    "        sentence_clean = ' '.join(w for w in non_rares_tokens)\n",
    "        \n",
    "        preprocess_tokens.append(non_rares_tokens)\n",
    "        preprocess_description.append(sentence_clean)\n",
    "    \n",
    "    return preprocess_description, preprocess_tokens"
   ]
  },
  {
   "cell_type": "code",
   "execution_count": 457,
   "id": "a1052b37",
   "metadata": {},
   "outputs": [],
   "source": [
    "preprocess2_description, preprocess2_tokens = Preprocess_listofSentence2(preprocess_description, list_rare_words, list_many_words)"
   ]
  },
  {
   "cell_type": "code",
   "execution_count": 459,
   "id": "2ea023d8",
   "metadata": {},
   "outputs": [],
   "source": [
    "# preprocess2_tokens = liste de liste de tokens [['','',''],[],...,[]]\n",
    "# preprocess2_description = liste de descriptions ['','','',...,'']"
   ]
  },
  {
   "cell_type": "code",
   "execution_count": 461,
   "id": "a5d17719",
   "metadata": {},
   "outputs": [
    {
     "name": "stdout",
     "output_type": "stream",
     "text": [
      "Phrase de base : Calibro SW-125 Analog-Digital Watch  - For Men, Boys\n",
      "                         Price: Rs. 699\n",
      "\t\t\t\t\n",
      "\t\t\tCALIBRO presents MTG Black Dial Round Watch. This is a fashionable watch from MTG that adds to your style statement. This brand is known for its usage of quality material in making appealing watches. It understands the needs of youth so well that it is able to present wide range of watches to its customers. The variety in design, style and youthful approach is very well executed by this brand. Get one and see how brilliantly it leads other brands in style, finish and everything else that matters.\n",
      "CALIBRO presents MTG Black Dial Round Watch. This is a fashionable watch from MTG that adds to your style statement. This brand is known for its usage of quality material in making appealing watches. It understands the needs of youth so well that it is able to present wide range of watches to its customers. The variety in design, style and youthful approach is very well executed by this brand. Get one and see how brilliantly it leads other brands in style, finish and everything else that matters.\n",
      "\n",
      "Tokens nettoyée phase 1 : \n",
      "\n",
      "['calibro', 'analogdigital', 'watch', 'men', 'boy', 'price', 'calibro', 'present', 'mtg', 'black', 'dial', 'round', 'watch', 'fashionable', 'watch', 'mtg', 'add', 'style', 'statement', 'brand', 'know', 'usage', 'quality', 'material', 'make', 'appeal', 'watch', 'understand', 'need', 'youth', 'well', 'able', 'present', 'wide', 'range', 'watch', 'customer', 'variety', 'design', 'style', 'youthful', 'approach', 'well', 'execute', 'brand', 'get', 'one', 'see', 'brilliantly', 'lead', 'brand', 'style', 'finish', 'everything', 'else', 'matter', 'calibro', 'present', 'mtg', 'black', 'dial', 'round', 'watch', 'fashionable', 'watch', 'mtg', 'add', 'style', 'statement', 'brand', 'know', 'usage', 'quality', 'material', 'make', 'appeal', 'watch', 'understand', 'need', 'youth', 'well', 'able', 'present', 'wide', 'range', 'watch', 'customer', 'variety', 'design', 'style', 'youthful', 'approach', 'well', 'execute', 'brand', 'get', 'one', 'see', 'brilliantly', 'lead', 'brand', 'style', 'finish', 'everything', 'else', 'matter']\n",
      "Tokens nettoyés phase 2 : \n",
      "\n",
      "['analogdigital', 'watch', 'men', 'boy', 'price', 'present', 'black', 'dial', 'round', 'watch', 'watch', 'add', 'style', 'brand', 'know', 'usage', 'quality', 'material', 'make', 'appeal', 'watch', 'understand', 'need', 'well', 'able', 'present', 'wide', 'range', 'watch', 'customer', 'variety', 'design', 'style', 'youthful', 'well', 'brand', 'get', 'one', 'see', 'lead', 'brand', 'style', 'finish', 'everything', 'present', 'black', 'dial', 'round', 'watch', 'watch', 'add', 'style', 'brand', 'know', 'usage', 'quality', 'material', 'make', 'appeal', 'watch', 'understand', 'need', 'well', 'able', 'present', 'wide', 'range', 'watch', 'customer', 'variety', 'design', 'style', 'youthful', 'well', 'brand', 'get', 'one', 'see', 'lead', 'brand', 'style', 'finish', 'everything']\n"
     ]
    }
   ],
   "source": [
    "print('Phrase de base : '+articles_text['description'][10]+'\\n')\n",
    "print('Tokens nettoyée phase 1 : ''\\n')\n",
    "print(preprocess_tokens[10])\n",
    "print('Tokens nettoyés phase 2 : ''\\n')\n",
    "print(preprocess2_tokens[10])"
   ]
  },
  {
   "cell_type": "markdown",
   "id": "f5e84746",
   "metadata": {},
   "source": [
    "#### -- Nombre de tokens après le 2e nettoyage --"
   ]
  },
  {
   "cell_type": "code",
   "execution_count": 464,
   "id": "550de75f",
   "metadata": {},
   "outputs": [
    {
     "name": "stdout",
     "output_type": "stream",
     "text": [
      "['key', 'feature', 'elegance', 'polyester', 'multicolor', 'abstract', 'eyelet', 'door', 'curtain', 'floral', 'polyester', 'multicolor', 'abstract', 'eyelet', 'door', 'curtain', 'height', 'pack', 'price', 'curtain', 'enhance', 'look', 'curtain', 'make', 'high', 'quality', 'polyester', 'feature', 'eyelet', 'style']\n"
     ]
    }
   ],
   "source": [
    "# Analyse des tokens après le 2e nettoyage :\n",
    "tokens_global = [item for sublist in preprocess2_tokens for item in sublist]\n",
    "print(tokens_global[:30])"
   ]
  },
  {
   "cell_type": "code",
   "execution_count": 466,
   "id": "f692ff0a",
   "metadata": {},
   "outputs": [
    {
     "data": {
      "text/plain": [
       "45305"
      ]
     },
     "execution_count": 466,
     "metadata": {},
     "output_type": "execute_result"
    }
   ],
   "source": [
    "len(tokens_global)\n",
    "# Il y a 52231 tokens dans les descriptions après le 1er nettoyage\n",
    "# Il y a 48639 tokens dans les descriptions après le 2 nettoyage (suppressions des mots qui apparaissent 2 fois ou moins)\n",
    "# Il y a 45305 tokens dans les descriptions après le 2 nettoyage (suppressions des mots qui apparaissent 5 fois ou moins)"
   ]
  },
  {
   "cell_type": "code",
   "execution_count": 468,
   "id": "d0ec7152",
   "metadata": {},
   "outputs": [
    {
     "data": {
      "text/plain": [
       "1175"
      ]
     },
     "execution_count": 468,
     "metadata": {},
     "output_type": "execute_result"
    }
   ],
   "source": [
    "len(set(tokens_global)) # mots uniques, set supprime les doublons\n",
    "# Il y a 4640 tokens uniques dans les descriptions après le 1er nettoyage\n",
    "# Il y a 2070 tokens uniques dans les descriptions après le 2 nettoyage (suppressions des mots qui apparaissent 2 fois ou moins)\n",
    "# Il y a 1175 tokens uniques dans les descriptions après le 2 nettoyage (suppressions des mots qui apparaissent 5 fois ou moins)"
   ]
  },
  {
   "cell_type": "code",
   "execution_count": 573,
   "id": "5309343e",
   "metadata": {},
   "outputs": [],
   "source": [
    "# Sauvegarder le df cleané\n",
    "# Créer le DataFrame\n",
    "articles_text_clean = pd.DataFrame({\n",
    "    'tokens': preprocess2_tokens,\n",
    "    'description': preprocess2_description,\n",
    "    'category_product': articles_text['category_1'],\n",
    "})\n",
    "articles_text_clean.to_csv(\"C:\\\\Users\\\\druar\\\\OneDrive\\\\Documents\\\\01_Formations\\\\1_Outils_ET_Metier\\\\2024_DataScientist\\\\ProjetsPython\\\\P6\\\\data\\\\articles_text_clean.csv\",index=False)"
   ]
  },
  {
   "cell_type": "code",
   "execution_count": 575,
   "id": "4465c55b",
   "metadata": {},
   "outputs": [
    {
     "data": {
      "text/html": [
       "<div>\n",
       "<style scoped>\n",
       "    .dataframe tbody tr th:only-of-type {\n",
       "        vertical-align: middle;\n",
       "    }\n",
       "\n",
       "    .dataframe tbody tr th {\n",
       "        vertical-align: top;\n",
       "    }\n",
       "\n",
       "    .dataframe thead th {\n",
       "        text-align: right;\n",
       "    }\n",
       "</style>\n",
       "<table border=\"1\" class=\"dataframe\">\n",
       "  <thead>\n",
       "    <tr style=\"text-align: right;\">\n",
       "      <th></th>\n",
       "      <th>tokens</th>\n",
       "      <th>description</th>\n",
       "      <th>category_product</th>\n",
       "    </tr>\n",
       "  </thead>\n",
       "  <tbody>\n",
       "    <tr>\n",
       "      <th>0</th>\n",
       "      <td>[key, feature, elegance, polyester, multicolor...</td>\n",
       "      <td>key feature elegance polyester multicolor abst...</td>\n",
       "      <td>Home Furnishing</td>\n",
       "    </tr>\n",
       "    <tr>\n",
       "      <th>1</th>\n",
       "      <td>[specification, cotton, bath, towel, bath, tow...</td>\n",
       "      <td>specification cotton bath towel bath towel red...</td>\n",
       "      <td>Baby Care</td>\n",
       "    </tr>\n",
       "    <tr>\n",
       "      <th>2</th>\n",
       "      <td>[key, feature, eurospa, cotton, terry, face, t...</td>\n",
       "      <td>key feature eurospa cotton terry face towel se...</td>\n",
       "      <td>Baby Care</td>\n",
       "    </tr>\n",
       "    <tr>\n",
       "      <th>3</th>\n",
       "      <td>[key, feature, santosh, royal, fashion, cotton...</td>\n",
       "      <td>key feature santosh royal fashion cotton print...</td>\n",
       "      <td>Home Furnishing</td>\n",
       "    </tr>\n",
       "    <tr>\n",
       "      <th>4</th>\n",
       "      <td>[key, feature, jaipur, print, cotton, floral, ...</td>\n",
       "      <td>key feature jaipur print cotton floral king si...</td>\n",
       "      <td>Home Furnishing</td>\n",
       "    </tr>\n",
       "  </tbody>\n",
       "</table>\n",
       "</div>"
      ],
      "text/plain": [
       "                                              tokens  \\\n",
       "0  [key, feature, elegance, polyester, multicolor...   \n",
       "1  [specification, cotton, bath, towel, bath, tow...   \n",
       "2  [key, feature, eurospa, cotton, terry, face, t...   \n",
       "3  [key, feature, santosh, royal, fashion, cotton...   \n",
       "4  [key, feature, jaipur, print, cotton, floral, ...   \n",
       "\n",
       "                                         description category_product  \n",
       "0  key feature elegance polyester multicolor abst...  Home Furnishing  \n",
       "1  specification cotton bath towel bath towel red...        Baby Care  \n",
       "2  key feature eurospa cotton terry face towel se...        Baby Care  \n",
       "3  key feature santosh royal fashion cotton print...  Home Furnishing  \n",
       "4  key feature jaipur print cotton floral king si...  Home Furnishing  "
      ]
     },
     "execution_count": 575,
     "metadata": {},
     "output_type": "execute_result"
    }
   ],
   "source": [
    "articles_text_clean.head()"
   ]
  },
  {
   "cell_type": "markdown",
   "id": "6a45bbf7",
   "metadata": {},
   "source": [
    "#### -- Représentation des mots --"
   ]
  },
  {
   "cell_type": "code",
   "execution_count": 475,
   "id": "f3f6ddb5",
   "metadata": {
    "scrolled": true
   },
   "outputs": [
    {
     "data": {
      "image/png": "[encoded data removed]",
      "text/plain": [
       "<Figure size 640x480 with 1 Axes>"
      ]
     },
     "metadata": {},
     "output_type": "display_data"
    }
   ],
   "source": [
    "wordcloud = WordCloud (background_color = \"white\",\n",
    "                      stopwords = set(),\n",
    "                      max_words = 50).generate(\" \".join(preprocess2_description)) ## par défaut, des bigrammes\n",
    "plt.imshow(wordcloud)\n",
    "plt.axis('off')\n",
    "plt.show();"
   ]
  },
  {
   "cell_type": "code",
   "execution_count": 571,
   "id": "69ff2b9d-6d47-4131-9c47-e23e9c11d4f6",
   "metadata": {},
   "outputs": [
    {
     "name": "stdout",
     "output_type": "stream",
     "text": [
      "Le nombre maximum de tokens dans la colonne 'tokens' est : 285\n"
     ]
    }
   ],
   "source": [
    "# Validation : Afficher la longueur des tokens\n",
    "df = articles_text_clean.copy()\n",
    "df['token_count'] = df['tokens'].apply(len)\n",
    "\n",
    "# Trouver le nombre maximum de tokens\n",
    "max_tokens = df['token_count'].max()\n",
    "print(f\"Le nombre maximum de tokens dans la colonne 'tokens' est : {max_tokens}\")"
   ]
  },
  {
   "cell_type": "markdown",
   "id": "efeaea92-f21d-479f-82f0-42d87a4cabc1",
   "metadata": {},
   "source": [
    "<div class=\"alert alert-block alert-info\">\n",
    "    <b> A RETENIR : </b> \n",
    "    \n",
    "- la phase de text processing a permi de passer d'un corpus global de 91612 tokens à un corpus de 45305 tokens\n",
    "- parmis eux, on passe de 8167 tokens uniques avant nettoyage à 1175 tokens uniques\n",
    "- cela facilitera le traitement des algorythmes en injectant des tokens pertinants en tant que features à analyser\n",
    "    \n",
    "</div>"
   ]
  }
 ],
 "metadata": {
  "kernelspec": {
   "display_name": "Kernel Formation P6",
   "language": "python",
   "name": "formation_p6"
  },
  "language_info": {
   "codemirror_mode": {
    "name": "ipython",
    "version": 3
   },
   "file_extension": ".py",
   "mimetype": "text/x-python",
   "name": "python",
   "nbconvert_exporter": "python",
   "pygments_lexer": "ipython3",
   "version": "3.11.9"
  }
 },
 "nbformat": 4,
 "nbformat_minor": 5
}
